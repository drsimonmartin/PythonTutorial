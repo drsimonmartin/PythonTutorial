{
 "cells": [
  {
   "cell_type": "code",
   "execution_count": 6,
   "id": "ab658143-b48f-4777-b846-3ffb7cd3eed7",
   "metadata": {},
   "outputs": [
    {
     "name": "stdout",
     "output_type": "stream",
     "text": [
      "red\n",
      "green\n",
      "blue\n"
     ]
    }
   ],
   "source": [
    "colours = ['red','green','blue']\n",
    "for colour in colours:\n",
    "    print(f'{colour}')"
   ]
  },
  {
   "cell_type": "code",
   "execution_count": null,
   "id": "e2806a0f-4db9-4451-9ccd-dccbb7e11754",
   "metadata": {},
   "outputs": [],
   "source": []
  }
 ],
 "metadata": {
  "kernelspec": {
   "display_name": "Python 3 (ipykernel)",
   "language": "python",
   "name": "python3"
  },
  "language_info": {
   "codemirror_mode": {
    "name": "ipython",
    "version": 3
   },
   "file_extension": ".py",
   "mimetype": "text/x-python",
   "name": "python",
   "nbconvert_exporter": "python",
   "pygments_lexer": "ipython3",
   "version": "3.11.6"
  }
 },
 "nbformat": 4,
 "nbformat_minor": 5
}
