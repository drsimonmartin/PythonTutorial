{
 "cells": [
  {
   "cell_type": "markdown",
   "id": "5fd8b607-32e9-45f5-a375-be199fa4bfb1",
   "metadata": {},
   "source": [
    "# Lab Exercises\n",
    "\n",
    "These exercises are designed to help you get to grips with python and with learning how to solve problems with computers. They are layed out roughly week-by-week, but do not worry if some take you a little longer. The important thing is to learn from them.\n",
    "\n",
    "## Week 1: Getting started\n",
    "Go through the notes and exercises in First Steps and Programming chapters of these notes."
   ]
  },
  {
   "cell_type": "markdown",
   "id": "ed53505a-439e-497f-b5a8-648df12040eb",
   "metadata": {},
   "source": [
    "## Week 2: Solving equations\n",
    "A system of two equations such as:\n",
    "\n",
    "$$\n",
    "aX + bY = p \n",
    "$$\n",
    "$$\n",
    "cX + dY = q\n",
    "$$\n",
    "\n",
    "Can be solved using Cramer's rule:\n",
    "\n",
    "\n",
    "$$\n",
    "X = \\frac{\\begin{vmatrix}p & b\\\\q &d\\end{vmatrix}}{\\begin{vmatrix}a & b \\\\ c & d\\end{vmatrix}}, Y = \\frac{\\begin{vmatrix}a & p\\\\c &q\\end{vmatrix}}{\\begin{vmatrix}a & b \\\\ c & d\\end{vmatrix}} $$\n",
    "\n",
    "where $\\begin{vmatrix}a & b \\\\ c & d\\end{vmatrix}$ is given by $a\\times d - c\\times b$ etc.\n",
    "\n",
    "\n",
    "Develop python code that implements this – use the development process.\n",
    "\n",
    "### Important Note about Cramer's rule\n",
    "Never try to use it for anything useful. Maths teachers like to demonstrate it and it makes for trivial exam questions that just take time to do, but it has so many problems that it has no use in computational methods. See if you can think what the problems might be? \n",
    "\n",
    "Solving sytems of equations is a very important part of technical computing there are lots of efficient and reliable ways to do this. Make use of these methods. A good example is provided by numpy: [numpy.linalg.solve](https://numpy.org/doc/stable/reference/generated/numpy.linalg.solve.html)"
   ]
  },
  {
   "cell_type": "markdown",
   "id": "64f678b6-2e7d-46be-a7cf-e3ac29de1581",
   "metadata": {},
   "source": [
    "## Week 3: Code hacking\n",
    "Modifying existing code to solve a new problem is a useful and effective way to learn programming skills. This week's problem explores how to make code operate a repeated number of times to generate a useful statistical result.\n",
    "\n",
    "The code in the file 'NormalDistribution.py' calculates a set of data associated with a given normal distribution (a normal distribution is completely defined by its mean and standard deviation).\n",
    "\n",
    "* Modify this code so that it creates 1,000 such distributions each containing 100 points.\n",
    "    * Hint: you will need to use a loop\n",
    "* Plot the a histogram of the distribution of the means for these 1,000 cases.\n",
    "* Calculate the percentage of cases where the 95% confidence interval contains the true mean of the distribution.\n",
    "    * Draw conclusions from these results.\n",
    " \n",
    "In order to achieve these outcomes you should apply the programme development method outlined in the introductory python notes i.e plan the steps before implementing them in python."
   ]
  },
  {
   "cell_type": "markdown",
   "id": "b53f688c-c33e-48b7-90b5-e3e4d6f06e8b",
   "metadata": {},
   "source": [
    "## Week 4 Data fitting\n",
    "\n",
    "### Ordinary Least Squares fitting\n",
    "1. Review your previous studies and find some lab data suitable for fitting with a least squares process. If you do not have any readily available use the file 'LSdata.csv' which is available on the Learn page\n",
    "2. Develop a python program that:\n",
    "    1. Reads the data in from a .csv, or .xlsx file\n",
    "    2. Performs a least squares fit to the data (ignore any weighting at this stage)\n",
    "    3. Displays the data and the line of best fit\n",
    "    4. Calculate and display a measure of the fit quality.\n",
    "3. Explore the effect changing the number of fit parameters βi . Start with a linear fit and increase the polynomial in steps of one up to at least β4. What happens to the fit quality as you increase the number of factors? Is this useful?\n",
    "\n",
    "\n",
    "### Weighted Least Squares fitting\n",
    "Make a **copy** of your code from above and adapt it to perform a weighted least squares fit.\n",
    "1. Start with equal weights for the data points.\n",
    " \n",
    "    * How does the new fit compare to the unweighted result?\n",
    "    * Is this what you expect?\n",
    "3. Add unequal weights to the data and see how the fit quality changes. Ideally you will have the standard deviations for your data to use as the weights, but make up some plausible values if not. You could use the NormalDistribution.py code to generate values for the weights. Alternatively, try giving one or two data points a much lower weighting than the others."
   ]
  },
  {
   "cell_type": "markdown",
   "id": "04a45b60-08d2-46b2-adc4-bdff4b4ab8d3",
   "metadata": {},
   "source": [
    "## Week 5 Code hacking\n",
    "The file 'SelfAvoidingWalk.py' contains the functions 'myopic_saw(n)' and 'plot_saw(n)' . The second function calls the first function and plots out the result. The 'myopic_saw' function simulates a random walk model of polymers. It uses a grid struture for the polymer bond directions and simulates a chain as being made up of n random steps on the grid. The chain is self avoiding and cannot intersect with itself. The function myopic_saw(n) will halt if a chain cannot add a bond without colliding with itself.\n",
    "\n",
    "Adapt 'plot_saw(n)' so that it calls myopic_saw(n) repeatedly until it suceeds in generating a self-avoiding-walk of the requested length and then plots this walk out.\n",
    "\n",
    "Use n=200 to test you code.\n",
    "\n",
    "### Bonus problem\n",
    "Make a copy of your code and modify it to time how long the function plot_saw(n) takes to run. Hint: google the time library for python. \n",
    "\n",
    "Time how long it takes to find chains of 10, 100, and 1000 units in length. For each length produce the average time taken.\n"
   ]
  },
  {
   "cell_type": "markdown",
   "id": "fd6c8f8b-6f01-4ff3-bda0-1ff1fa5f64b1",
   "metadata": {},
   "source": [
    "## Week 6: Getting responses\n",
    "\n",
    "It is useful for a python program to be able to ask for a parameter value to use rather than keep modifying the code each time you run it. The 'input()'' function is handy for this.\n",
    "\n",
    "### Exercises\n",
    "1. Make a copy of the Normal Distribution code (see Learn) and modify it so that it asks for and accepts the mean and standard distribution values to be used.\n",
    "2. Extend the code so that it repeats until the user decides to finish.\n",
    "3. Add checks of the input values to ensure they are valid e.g. the SD must be $\\gt$ 0"
   ]
  },
  {
   "cell_type": "markdown",
   "id": "4113ea27-6141-498a-a10d-44e8990c3b80",
   "metadata": {},
   "source": [
    "## Week 7: Symbolic Maths\n",
    "This week's exercise explores how to perform symbolic maths in python. We are going to do this using the 'sympy' library.\n",
    "\n",
    "Read the document CoM_Algebra.pdf (MPP001 Learn page). This is a short set of notes that shows how python can be used to integrate various mathematical expressions.\n",
    "### Exercise(s)\n",
    "1. Reproduce the maths in the PDF CoM_Algebra.pdf .\n",
    "1. Change the function(s) that are integrated. Are the results what you expect?\n",
    "2. Differentiate the results of the integrations you have done. Done you get back to the original expressions?\n",
    "3. Explore other tools that sympy offers. 'expand()' and 'simplify()' are good starting points."
   ]
  },
  {
   "cell_type": "code",
   "execution_count": null,
   "id": "c86d666d-da2c-4955-bc7a-61337149c7f9",
   "metadata": {},
   "outputs": [],
   "source": []
  }
 ],
 "metadata": {
  "kernelspec": {
   "display_name": "Python 3 (ipykernel)",
   "language": "python",
   "name": "python3"
  },
  "language_info": {
   "codemirror_mode": {
    "name": "ipython",
    "version": 3
   },
   "file_extension": ".py",
   "mimetype": "text/x-python",
   "name": "python",
   "nbconvert_exporter": "python",
   "pygments_lexer": "ipython3",
   "version": "3.11.6"
  }
 },
 "nbformat": 4,
 "nbformat_minor": 5
}
